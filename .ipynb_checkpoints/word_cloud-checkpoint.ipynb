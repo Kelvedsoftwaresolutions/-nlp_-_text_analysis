{
 "cells": [
  {
   "cell_type": "code",
   "execution_count": 2,
   "id": "unnecessary-dollar",
   "metadata": {},
   "outputs": [],
   "source": [
    "import nltk"
   ]
  },
  {
   "cell_type": "code",
   "execution_count": 3,
   "id": "mature-firewall",
   "metadata": {},
   "outputs": [
    {
     "name": "stdout",
     "output_type": "stream",
     "text": [
      "showing info https://raw.githubusercontent.com/nltk/nltk_data/gh-pages/index.xml\n"
     ]
    },
    {
     "data": {
      "text/plain": [
       "True"
      ]
     },
     "execution_count": 3,
     "metadata": {},
     "output_type": "execute_result"
    }
   ],
   "source": [
    "# downloading required packages from nltk library\n",
    "nltk.download()"
   ]
  },
  {
   "cell_type": "code",
   "execution_count": 9,
   "id": "dedicated-tablet",
   "metadata": {},
   "outputs": [],
   "source": [
    "# Importing installed packages from nltk\n",
    "# corpus - english dictionary\n",
    "from nltk.corpus import product_reviews_1, movie_reviews"
   ]
  },
  {
   "cell_type": "code",
   "execution_count": 13,
   "id": "trying-police",
   "metadata": {},
   "outputs": [
    {
     "data": {
      "text/plain": [
       "['Apex_AD2600_Progressive_scan_DVD player.txt',\n",
       " 'Canon_G3.txt',\n",
       " 'Creative_Labs_Nomad_Jukebox_Zen_Xtra_40GB.txt',\n",
       " 'Nikon_coolpix_4300.txt',\n",
       " 'Nokia_6610.txt',\n",
       " 'README.txt']"
      ]
     },
     "execution_count": 13,
     "metadata": {},
     "output_type": "execute_result"
    }
   ],
   "source": [
    "# existing data\n",
    "product_reviews_1.fileids()"
   ]
  },
  {
   "cell_type": "code",
   "execution_count": 16,
   "id": "sized-transformation",
   "metadata": {},
   "outputs": [
    {
     "data": {
      "text/plain": [
       "['i', 'recently', 'purchased', 'the', 'canon', ...]"
      ]
     },
     "execution_count": 16,
     "metadata": {},
     "output_type": "execute_result"
    }
   ],
   "source": [
    "product_reviews_1.words('Canon_G3.txt')"
   ]
  },
  {
   "cell_type": "code",
   "execution_count": null,
   "id": "satellite-chemistry",
   "metadata": {},
   "outputs": [],
   "source": [
    "# review full text\n",
    "full_text = ' '.join(product_reviews_1.words('Canon_G3.txt'))\n",
    "full_text"
   ]
  },
  {
   "cell_type": "code",
   "execution_count": null,
   "id": "precious-hopkins",
   "metadata": {},
   "outputs": [],
   "source": [
    "movie_reviews.fileids()"
   ]
  },
  {
   "cell_type": "code",
   "execution_count": 18,
   "id": "infinite-senator",
   "metadata": {},
   "outputs": [
    {
     "data": {
      "text/plain": [
       "['plot', ':', 'two', 'teen', 'couples', 'go', 'to', ...]"
      ]
     },
     "execution_count": 18,
     "metadata": {},
     "output_type": "execute_result"
    }
   ],
   "source": [
    "movie_reviews.words('neg/cv000_29416.txt')"
   ]
  },
  {
   "cell_type": "code",
   "execution_count": null,
   "id": "silver-abraham",
   "metadata": {},
   "outputs": [],
   "source": [
    "# importing packages\n",
    "from wordcloud import WordCloud, STOPWORDS"
   ]
  },
  {
   "cell_type": "code",
   "execution_count": null,
   "id": "parental-exclusion",
   "metadata": {},
   "outputs": [],
   "source": [
    "# Getting stop words\n",
    "eng_stopwords = nltk.corpus.stopwords.words('english')\n",
    "eng_stopwords"
   ]
  },
  {
   "cell_type": "code",
   "execution_count": null,
   "id": "recent-deviation",
   "metadata": {},
   "outputs": [],
   "source": [
    "# Choose top 100 words\n",
    "# Avoiding stop words and most repeated words\n",
    "wc = WordCloud(max_words=100, stopwords=eng_stopwords+['camera', 'nikon', 'pictures'])\n",
    "wc.generate(full_text,)"
   ]
  },
  {
   "cell_type": "code",
   "execution_count": null,
   "id": "major-bolivia",
   "metadata": {},
   "outputs": [],
   "source": [
    "# Visualizing word cloud\n",
    "import matplotlib.pyplot as plt\n",
    "plt.figure(figsize=(15, 15))\n",
    "plt.imshow(wc)\n",
    "plt.show() # this is only for "
   ]
  }
 ],
 "metadata": {
  "kernelspec": {
   "display_name": "Python 3",
   "language": "python",
   "name": "python3"
  },
  "language_info": {
   "codemirror_mode": {
    "name": "ipython",
    "version": 3
   },
   "file_extension": ".py",
   "mimetype": "text/x-python",
   "name": "python",
   "nbconvert_exporter": "python",
   "pygments_lexer": "ipython3",
   "version": "3.8.2"
  }
 },
 "nbformat": 4,
 "nbformat_minor": 5
}
